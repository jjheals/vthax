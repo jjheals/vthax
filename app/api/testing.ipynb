{
 "cells": [
  {
   "cell_type": "code",
   "execution_count": 1,
   "metadata": {},
   "outputs": [],
   "source": [
    "point_A = [55.75222, 37.61556]  # Moscow\n",
    "point_B = [50.45466, 30.5238]   # Kyiv\n",
    "\n",
    "num_waypoints = 5\n",
    "num_paths = 3"
   ]
  },
  {
   "cell_type": "code",
   "execution_count": 2,
   "metadata": {},
   "outputs": [
    {
     "name": "stdout",
     "output_type": "stream",
     "text": [
      "Straight line distance: 756.2941363684055 km\n"
     ]
    }
   ],
   "source": [
    "from terrain import calculate_distance\n",
    "\n",
    "straight_line_distance:float = calculate_distance(\n",
    "    point_A[0],\n",
    "    point_A[1],\n",
    "    point_B[0],\n",
    "    point_B[1]\n",
    ")\n",
    "\n",
    "print(f'Straight line distance: {straight_line_distance} km')"
   ]
  },
  {
   "cell_type": "code",
   "execution_count": 3,
   "metadata": {},
   "outputs": [],
   "source": [
    "import random\n",
    "from geopy.distance import great_circle\n",
    "\n",
    "def generate_random_waypoints(start:tuple[float, float], end:tuple[float, float], num_waypoints:int) -> list[tuple[int,int]]:\n",
    "    \"\"\"\n",
    "    Generates random waypoints between a start and endpoint.\n",
    "    \n",
    "    Args: \n",
    "        start (tuple[float, float]): starting latitude and longitude.\n",
    "        end (tuple[float, float]): ending latitude and longitude.\n",
    "        num_waypoints (int) number of random waypoints to generate.\n",
    "    \n",
    "    Returns \n",
    "        list[tuple[float, float]]: list of tuples containing the waypoints.\n",
    "    \"\"\"\n",
    "    waypoints:list[tuple[float, float]] = [start]\n",
    "    \n",
    "    # Generate random waypoints\n",
    "    for _ in range(num_waypoints):\n",
    "        # Randomly choose a fraction between 0 and 1 \n",
    "        fraction = random.uniform(0, 1)\n",
    "\n",
    "        # Add the fraction to the lat/long of the start and end to generate a random point between the two\n",
    "        lat:float = start[0] + fraction * (end[0] - start[0])\n",
    "        lon:float = start[1] + fraction * (end[1] - start[1])\n",
    "        waypoints.append((lat, lon))\n",
    "    \n",
    "    # Add the end location to the waypoints so we end in the right place \n",
    "    waypoints.append(end)\n",
    "\n",
    "    # Return the populated list \n",
    "    return waypoints\n",
    "\n",
    "\n",
    "def create_random_paths(start:tuple[float, float], end:tuple[float, float], num_waypoints:int, num_paths:int) -> list[list[tuple[float, float]]]:\n",
    "    \"\"\"\n",
    "    Creates multiple random paths between a start and endpoint.\n",
    "    \n",
    "    Args: \n",
    "        start (tuple[float, float]): starting latitude and longitude.\n",
    "        end (tuple[float, float]): ending latitude and longitude.\n",
    "        num_waypoints (int): number of random waypoints to generate.\n",
    "        num_paths (int): number of paths to generate\n",
    "\n",
    "    Returns: \n",
    "        list[list[tuple[float, float]]]: list of lists containing paths, where each path is a list of tuples (lat, lon).\n",
    "    \"\"\"\n",
    "    # Init empty list of paths\n",
    "    paths = []\n",
    "    \n",
    "    # Generate num_paths possible paths \n",
    "    for _ in range(num_paths):\n",
    "        waypoints = generate_random_waypoints(start, end, num_waypoints)\n",
    "        paths.append(waypoints)\n",
    "    \n",
    "    return paths"
   ]
  },
  {
   "cell_type": "code",
   "execution_count": 4,
   "metadata": {},
   "outputs": [
    {
     "name": "stdout",
     "output_type": "stream",
     "text": [
      "Path 1:\n",
      "  [55.75222, 37.61556]\n",
      "  (53.07148412943991, 34.02690118020311)\n",
      "  (54.74331596869371, 36.26495608932099)\n",
      "  (55.581286885253824, 37.38673453585569)\n",
      "  (52.900626601539095, 33.79817690297626)\n",
      "  (53.093317026406055, 34.05612853494541)\n",
      "  [50.45466, 30.5238]\n",
      "\n",
      "Path 2:\n",
      "  [55.75222, 37.61556]\n",
      "  (51.594615659367825, 32.04984065775157)\n",
      "  (53.45130745524334, 34.53536467452874)\n",
      "  (55.05776724074017, 36.68590704656323)\n",
      "  (51.82386692899023, 32.356735715826865)\n",
      "  (52.65942367567921, 33.47528235123996)\n",
      "  [50.45466, 30.5238]\n",
      "\n",
      "Path 3:\n",
      "  [55.75222, 37.61556]\n",
      "  (54.94617308142994, 36.536517705955504)\n",
      "  (54.7345910911126, 36.25327623334303)\n",
      "  (53.47931368353897, 34.572856170534045)\n",
      "  (53.27918295407254, 34.30494432017258)\n",
      "  (51.806780616895466, 32.33386253937183)\n",
      "  [50.45466, 30.5238]\n",
      "\n"
     ]
    }
   ],
   "source": [
    "random_paths = create_random_paths(point_A, point_B, num_waypoints, num_paths)\n",
    "\n",
    "# Print generated paths\n",
    "for i, path in enumerate(random_paths):\n",
    "    print(f\"Path {i + 1}:\")\n",
    "    for waypoint in path:\n",
    "        print(f\"  {waypoint}\")\n",
    "    print()"
   ]
  }
 ],
 "metadata": {
  "kernelspec": {
   "display_name": "Python 3",
   "language": "python",
   "name": "python3"
  },
  "language_info": {
   "codemirror_mode": {
    "name": "ipython",
    "version": 3
   },
   "file_extension": ".py",
   "mimetype": "text/x-python",
   "name": "python",
   "nbconvert_exporter": "python",
   "pygments_lexer": "ipython3",
   "version": "3.12.5"
  }
 },
 "nbformat": 4,
 "nbformat_minor": 2
}
