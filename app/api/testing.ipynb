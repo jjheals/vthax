{
 "cells": [
  {
   "cell_type": "code",
   "execution_count": 1,
   "metadata": {},
   "outputs": [],
   "source": [
    "point_A = [55.75222, 37.61556]  # Moscow\n",
    "point_B = [50.45466, 30.5238]   # Kyiv\n",
    "\n",
    "num_waypoints = 5\n",
    "num_paths = 3"
   ]
  },
  {
   "cell_type": "code",
   "execution_count": 2,
   "metadata": {},
   "outputs": [
    {
     "name": "stdout",
     "output_type": "stream",
     "text": [
      "Straight line distance: 756.2941363684055 km\n"
     ]
    }
   ],
   "source": [
    "from terrain import calculate_distance\n",
    "\n",
    "straight_line_distance:float = calculate_distance(\n",
    "    point_A[0],\n",
    "    point_A[1],\n",
    "    point_B[0],\n",
    "    point_B[1]\n",
    ")\n",
    "\n",
    "print(f'Straight line distance: {straight_line_distance} km')"
   ]
  },
  {
   "cell_type": "code",
   "execution_count": 3,
   "metadata": {},
   "outputs": [],
   "source": [
    "import random\n",
    "from geopy.distance import great_circle\n",
    "\n",
    "def generate_random_waypoints(start:tuple[float, float], end:tuple[float, float], num_waypoints:int) -> list[tuple[int,int]]:\n",
    "    \"\"\"\n",
    "    Generates random waypoints between a start and endpoint.\n",
    "    \n",
    "    Args: \n",
    "        start (tuple[float, float]): starting latitude and longitude.\n",
    "        end (tuple[float, float]): ending latitude and longitude.\n",
    "        num_waypoints (int) number of random waypoints to generate.\n",
    "    \n",
    "    Returns \n",
    "        list[tuple[float, float]]: list of tuples containing the waypoints.\n",
    "    \"\"\"\n",
    "    waypoints:list[tuple[float, float]] = [start]\n",
    "    \n",
    "    # Generate random waypoints\n",
    "    for _ in range(num_waypoints):\n",
    "        # Randomly choose a fraction between 0 and 1 \n",
    "        fraction = random.uniform(0, 1)\n",
    "\n",
    "        # Add the fraction to the lat/long of the start and end to generate a random point between the two\n",
    "        lat:float = start[0] + fraction * (end[0] - start[0])\n",
    "        lon:float = start[1] + fraction * (end[1] - start[1])\n",
    "        waypoints.append((lat, lon))\n",
    "    \n",
    "    # Add the end location to the waypoints so we end in the right place \n",
    "    waypoints.append(end)\n",
    "\n",
    "    # Return the populated list \n",
    "    return waypoints\n",
    "\n",
    "\n",
    "def create_random_paths(start:tuple[float, float], end:tuple[float, float], num_waypoints:int, num_paths:int) -> list[list[tuple[float, float]]]:\n",
    "    \"\"\"\n",
    "    Creates multiple random paths between a start and endpoint.\n",
    "    \n",
    "    Args: \n",
    "        start (tuple[float, float]): starting latitude and longitude.\n",
    "        end (tuple[float, float]): ending latitude and longitude.\n",
    "        num_waypoints (int): number of random waypoints to generate.\n",
    "        num_paths (int): number of paths to generate\n",
    "\n",
    "    Returns: \n",
    "        list[list[tuple[float, float]]]: list of lists containing paths, where each path is a list of tuples (lat, lon).\n",
    "    \"\"\"\n",
    "    # Init empty list of paths\n",
    "    paths = []\n",
    "    \n",
    "    # Generate num_paths possible paths \n",
    "    for _ in range(num_paths):\n",
    "        waypoints = generate_random_waypoints(start, end, num_waypoints)\n",
    "        paths.append(waypoints)\n",
    "    \n",
    "    return paths"
   ]
  },
  {
   "cell_type": "code",
   "execution_count": 4,
   "metadata": {},
   "outputs": [
    {
     "name": "stdout",
     "output_type": "stream",
     "text": [
      "Path 1:\n",
      "  [55.75222, 37.61556]\n",
      "  (52.465020549671266, 33.2150379532722)\n",
      "  (54.450910863761514, 35.873517988203886)\n",
      "  (54.15187197660851, 35.473199347479444)\n",
      "  (53.986827074067094, 35.25225634012377)\n",
      "  (50.908860623559605, 31.131831209487967)\n",
      "  [50.45466, 30.5238]\n",
      "\n",
      "Path 2:\n",
      "  [55.75222, 37.61556]\n",
      "  (53.30587162563184, 34.34067202376016)\n",
      "  (53.054281636966564, 34.00387247490807)\n",
      "  (52.036974911372575, 32.64202000994337)\n",
      "  (54.372250801965805, 35.76821700438485)\n",
      "  (52.8814980273803, 33.77256978251394)\n",
      "  [50.45466, 30.5238]\n",
      "\n",
      "Path 3:\n",
      "  [55.75222, 37.61556]\n",
      "  (53.15364181557452, 34.13688437854763)\n",
      "  (52.15147931456199, 32.79530524812142)\n",
      "  (54.42396097524736, 35.837440597599695)\n",
      "  (50.97525816161543, 31.220716546224654)\n",
      "  (52.76756988656275, 33.62005597768223)\n",
      "  [50.45466, 30.5238]\n",
      "\n"
     ]
    }
   ],
   "source": [
    "random_paths = create_random_paths(point_A, point_B, num_waypoints, num_paths)\n",
    "\n",
    "# Print generated paths\n",
    "for i, path in enumerate(random_paths):\n",
    "    print(f\"Path {i + 1}:\")\n",
    "    for waypoint in path:\n",
    "        print(f\"  {waypoint}\")\n",
    "    print()"
   ]
  }
 ],
 "metadata": {
  "kernelspec": {
   "display_name": "Python 3",
   "language": "python",
   "name": "python3"
  },
  "language_info": {
   "codemirror_mode": {
    "name": "ipython",
    "version": 3
   },
   "file_extension": ".py",
   "mimetype": "text/x-python",
   "name": "python",
   "nbconvert_exporter": "python",
   "pygments_lexer": "ipython3",
   "version": "3.12.5"
  }
 },
 "nbformat": 4,
 "nbformat_minor": 2
}
