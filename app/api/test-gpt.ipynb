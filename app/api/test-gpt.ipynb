{
 "cells": [
  {
   "cell_type": "markdown",
   "metadata": {},
   "source": [
    "**Testing a prompt**"
   ]
  },
  {
   "cell_type": "code",
   "execution_count": 7,
   "metadata": {},
   "outputs": [],
   "source": [
    "def format_prompt(inputs: dict) -> str:\n",
    "    \"\"\"Takes in a dict of inputs and creates a prompt based on the given inputs. \n",
    "    The inputs should match the form data and all must be included.\"\"\"\n",
    "\n",
    "    prompt_template = \"\"\"\n",
    "        I am conducting a military operation. I have the following available vehicles: {}.\n",
    "        My starting location is at lat: {}, long: {}, in {}. My target is at lat: {}, long: {}, \n",
    "        which is about {} km from my starting location. I expect the following terrains: {}.\n",
    "        I have {} total personnel. Based on previously acquired intelligence, my target time \n",
    "        on objective is {} hours, and I expect {} resistance once on target. I want to conduct \n",
    "        a {} mission, specifically {}. My primary objective is to {}.\n",
    "        Create a detailed plan for me to conduct an operation under these circumstances.\n",
    "    \"\"\".strip()\n",
    "\n",
    "    return prompt_template.format(\n",
    "        ', '.join(inputs.get('vehicles', [])),        # Available vehicles\n",
    "        inputs['starting-location'][0],               # Starting lat\n",
    "        inputs['starting-location'][1],               # Starting lon\n",
    "        inputs.get('starting-country', ''),           # Starting country\n",
    "        inputs['target-location'][0],                 # Target lat\n",
    "        inputs['target-location'][1],                 # Target lon\n",
    "        inputs.get('straight-distance', 'unknown'),   # Straight line distance from start -> target\n",
    "        ', '.join(inputs.get('terrains', [])),        # Terrains along path\n",
    "        inputs.get('total-personnel', 'unknown'),     # Total personnel\n",
    "        inputs.get('target-time-on-obj', 'unknown'),  # Time on OBJ\n",
    "        inputs.get('expected-resistance', 'unknown'), # Expected resistance\n",
    "        inputs.get('strategy', 'unknown'),            # Strategy\n",
    "        inputs.get('mission-type', 'unknown'),        # Mission type (e.g., reconnaissance, etc.)\n",
    "        inputs.get('primary-objective', 'unknown')    # Primary objective\n",
    "    )\n"
   ]
  },
  {
   "cell_type": "code",
   "execution_count": 8,
   "metadata": {},
   "outputs": [
    {
     "name": "stdout",
     "output_type": "stream",
     "text": [
      "\u001b[92mFormatted prompt:\u001b[0m\n",
      "\n",
      "I am conducting a military operation. I have the following available vehicles: foot, land vehicle, helicopter, boat.\n",
      "        My starting location is at lat: 34.0522, long: -118.2437, in Afghanistan. My target is at lat: 36.1699, long: -115.1398, \n",
      "        which is about 40 km from my starting location. I expect the following terrains: forest, transport, mountainous.\n",
      "        I have 10 total personnel. Based on previously acquired intelligence, my target time \n",
      "        on objective is 2 hours, and I expect high resistance once on target. I want to conduct \n",
      "        a stealth mission, specifically unknown. My primary objective is to extract HVT.\n",
      "        Create a detailed plan for me to conduct an operation under these circumstances.\n"
     ]
    }
   ],
   "source": [
    "# Define mission details\n",
    "available_vehicles = ['foot', 'land vehicle', 'helicopter', 'boat']\n",
    "starting_location = (34.0522, -118.2437)  # Example coordinates for Los Angeles\n",
    "target_location = (36.1699, -115.1398)    # Example coordinates for Las Vegas\n",
    "total_personnel = 10\n",
    "target_time_on_objective = 2\n",
    "strategy = \"stealth\"\n",
    "strategy_description = 'get on target without being detected'\n",
    "objective = \"extract HVT\"\n",
    "expected_resistance = \"high\"\n",
    "terrains = ['forest', 'transport', 'mountainous']\n",
    "\n",
    "prompt = format_prompt({\n",
    "    'vehicles': available_vehicles,\n",
    "    'starting-location': starting_location,\n",
    "    'target-location': target_location,\n",
    "    'starting-country': 'Afghanistan',\n",
    "    'straight-distance': 40,\n",
    "    'terrains': terrains,\n",
    "    'total-personnel': total_personnel,\n",
    "    'target-time-on-obj': target_time_on_objective,\n",
    "    'strategy': strategy,\n",
    "    'primary-objective': objective,\n",
    "    'expected-resistance': expected_resistance\n",
    "})\n",
    "\n",
    "print('\\033[92mFormatted prompt:\\033[0m\\n')\n",
    "print(prompt)"
   ]
  },
  {
   "cell_type": "code",
   "execution_count": 15,
   "metadata": {},
   "outputs": [
    {
     "name": "stdout",
     "output_type": "stream",
     "text": [
      "ChatGPT Response: Operation Plan: Extraction - HVT\n",
      "\n",
      "MISSION:\n",
      "\n",
      "Conduct covert HVT extraction operation under high resistance at the target location (lat: 36.1699, long: -115.1398) within two hours from initiation of the mission from starting location lat: 34.0522, long: -118.2437.\n",
      "\n",
      "EXECUTION:\n",
      "\n",
      "Phase 1 - Ingress: \n",
      "\n",
      "• Two land vehicles (preferably with off-road capabilities due to mountainous terrain) will transport the 10-personnel teams from the starting point to the edge of the mountain range. Vehicles should be equipped with the best stealth technology to avoid detection. \n",
      "\n",
      "• Upon reaching the edge of the mountain, personnel will disembark and continue on foot, using the forest and mountainous terrain as cover. The land vehicles will return to the base to await orders for extraction.\n",
      "\n",
      "Phase 2 - Assault:\n",
      "\n",
      "• Personnel will split into two five-man teams. Team A will provide overwatch/security while Team B will infiltrate the target location. \n",
      "\n",
      "• Team B will initiate the assault, aiming to reach the target without alerting enemy forces. The use of suppressed weapons and other stealth infiltration tools will be critical.\n",
      "\n",
      "Phase 3 - Extraction:\n",
      "\n",
      "• Once Team B has secured the HVT, a stealth helicopter will be dispatched from the base. The preferable landing zone is any open, less mountainous area to facilitate safe landing. \n",
      "\n",
      "• Upon securing the HVT, both Team A and B will retreat to the extraction point using the cover of forest and mountainous terrain. \n",
      " \n",
      "Phase 4 - Egress:\n",
      "\n",
      "• Once the HVT and all personnel are onboard the helicopter, it will initiate return to base using a different route than the ingress to minimize the chance of encountering enemy reinforcements.\n",
      "\n",
      "• Any hot pursuit from enemy forces can be deterred by deploying decoy boats that move in the opposite direction, distracting enemy forces and buying the extraction team valuable time to escape.\n",
      "\n",
      "CONDITIONS: \n",
      "\n",
      "• All vehicles and equipment should be equipped with the best stealth technology. \n",
      "\n",
      "• Time will be critical given that this is a high-value target.\n",
      "\n",
      "COORDINATION:\n",
      "\n",
      "• Constant communication should be maintained between the two teams, helicopter pilot, and base command. \n",
      "\n",
      "• Any change in enemy activities or hostility level should be shared promptly.\n",
      "\n",
      "The above tactical plan involves various elements and requires exceptional coordination and communication. The mission success relies on swift execution and flexibility to adapt to unforeseen circumstances. \n",
      "\n",
      "DISCLAIMER: This plan is generated for\n"
     ]
    }
   ],
   "source": [
    "import openai \n",
    "import json \n",
    "\n",
    "# Load creds\n",
    "with open('../../creds.json', 'r') as file: \n",
    "    openai.api_key = json.load(file)['openai-api-key']\n",
    "\n",
    "def get_chatgpt_response(prompt):\n",
    "    response = openai.chat.completions.create(\n",
    "        model=\"gpt-4\",\n",
    "        messages=[\n",
    "            {\"role\": \"user\", \"content\": prompt}\n",
    "        ],\n",
    "        max_tokens=500\n",
    "    )\n",
    "    return response\n",
    "\n",
    "# Example prompt\n",
    "response = get_chatgpt_response(prompt)\n",
    "print(\"ChatGPT Response:\", response.choices[0].message.content)\n"
   ]
  }
 ],
 "metadata": {
  "kernelspec": {
   "display_name": "Python 3",
   "language": "python",
   "name": "python3"
  },
  "language_info": {
   "codemirror_mode": {
    "name": "ipython",
    "version": 3
   },
   "file_extension": ".py",
   "mimetype": "text/x-python",
   "name": "python",
   "nbconvert_exporter": "python",
   "pygments_lexer": "ipython3",
   "version": "3.12.5"
  }
 },
 "nbformat": 4,
 "nbformat_minor": 2
}
