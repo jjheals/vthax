{
 "cells": [
  {
   "cell_type": "markdown",
   "metadata": {},
   "source": [
    "**Testing a prompt**"
   ]
  },
  {
   "cell_type": "code",
   "execution_count": 7,
   "metadata": {},
   "outputs": [],
   "source": [
    "def format_prompt(inputs: dict) -> str:\n",
    "    \"\"\"Takes in a dict of inputs and creates a prompt based on the given inputs. \n",
    "    The inputs should match the form data and all must be included.\"\"\"\n",
    "\n",
    "    prompt_template = \"\"\"\n",
    "        I am conducting a military operation. I have the following available vehicles: {}.\n",
    "        My starting location is at lat: {}, long: {}, in {}. My target is at lat: {}, long: {}, \n",
    "        which is about {} km from my starting location. I expect the following terrains: {}.\n",
    "        I have {} total personnel. Based on previously acquired intelligence, my target time \n",
    "        on objective is {} hours, and I expect {} resistance once on target. I want to conduct \n",
    "        a {} mission, specifically {}. My primary objective is to {}.\n",
    "        Create a detailed plan for me to conduct an operation under these circumstances.\n",
    "    \"\"\".strip()\n",
    "\n",
    "    return prompt_template.format(\n",
    "        ', '.join(inputs.get('vehicles', [])),        # Available vehicles\n",
    "        inputs['starting-location'][0],               # Starting lat\n",
    "        inputs['starting-location'][1],               # Starting lon\n",
    "        inputs.get('starting-country', ''),           # Starting country\n",
    "        inputs['target-location'][0],                 # Target lat\n",
    "        inputs['target-location'][1],                 # Target lon\n",
    "        inputs.get('straight-distance', 'unknown'),   # Straight line distance from start -> target\n",
    "        ', '.join(inputs.get('terrains', [])),        # Terrains along path\n",
    "        inputs.get('total-personnel', 'unknown'),     # Total personnel\n",
    "        inputs.get('target-time-on-obj', 'unknown'),  # Time on OBJ\n",
    "        inputs.get('expected-resistance', 'unknown'), # Expected resistance\n",
    "        inputs.get('strategy', 'unknown'),            # Strategy\n",
    "        inputs.get('mission-type', 'unknown'),        # Mission type (e.g., reconnaissance, etc.)\n",
    "        inputs.get('primary-objective', 'unknown')    # Primary objective\n",
    "    )\n"
   ]
  },
  {
   "cell_type": "code",
   "execution_count": 8,
   "metadata": {},
   "outputs": [
    {
     "name": "stdout",
     "output_type": "stream",
     "text": [
      "\u001b[92mFormatted prompt:\u001b[0m\n",
      "\n",
      "I am conducting a military operation. I have the following available vehicles: foot, land vehicle, helicopter, boat.\n",
      "        My starting location is at lat: 34.0522, long: -118.2437, in Afghanistan. My target is at lat: 36.1699, long: -115.1398, \n",
      "        which is about 40 km from my starting location. I expect the following terrains: forest, transport, mountainous.\n",
      "        I have 10 total personnel. Based on previously acquired intelligence, my target time \n",
      "        on objective is 2 hours, and I expect high resistance once on target. I want to conduct \n",
      "        a stealth mission, specifically unknown. My primary objective is to extract HVT.\n",
      "        Create a detailed plan for me to conduct an operation under these circumstances.\n"
     ]
    }
   ],
   "source": [
    "# Define mission details\n",
    "available_vehicles = ['foot', 'land vehicle', 'helicopter', 'boat']\n",
    "starting_location = (34.0522, -118.2437)  # Example coordinates for Los Angeles\n",
    "target_location = (36.1699, -115.1398)    # Example coordinates for Las Vegas\n",
    "total_personnel = 10\n",
    "target_time_on_objective = 2\n",
    "strategy = \"stealth\"\n",
    "strategy_description = 'get on target without being detected'\n",
    "objective = \"extract HVT\"\n",
    "expected_resistance = \"high\"\n",
    "terrains = ['forest', 'transport', 'mountainous']\n",
    "\n",
    "prompt = format_prompt({\n",
    "    'vehicles': available_vehicles,\n",
    "    'starting-location': starting_location,\n",
    "    'target-location': target_location,\n",
    "    'starting-country': 'Afghanistan',\n",
    "    'straight-distance': 40,\n",
    "    'terrains': terrains,\n",
    "    'total-personnel': total_personnel,\n",
    "    'target-time-on-obj': target_time_on_objective,\n",
    "    'strategy': strategy,\n",
    "    'primary-objective': objective,\n",
    "    'expected-resistance': expected_resistance\n",
    "})\n",
    "\n",
    "print('\\033[92mFormatted prompt:\\033[0m\\n')\n",
    "print(prompt)"
   ]
  },
  {
   "cell_type": "code",
   "execution_count": 12,
   "metadata": {},
   "outputs": [
    {
     "name": "stdout",
     "output_type": "stream",
     "text": [
      "ChatGPT Response: ChatCompletion(id='chatcmpl-A7Qo8K3FNwkRmtfUVxYiJyuxOsjDJ', choices=[Choice(finish_reason='stop', index=0, logprobs=None, message=ChatCompletionMessage(content='1. Mission planning:\\n   - Gather all available intelligence regarding the target area, including enemy positions, possible routes, and any obstacles that may be encountered.\\n   - Plan the infiltration route carefully, taking into consideration the different terrains that may be encountered.\\n   - Assign specific roles to each member of the team, including a team leader, a communications specialist, a medic, and a designated marksman.\\n   - Brief the team on the mission objective, the expected resistance, and the extraction plan.\\n   - Determine the best vehicle to use for each stage of the mission.\\n\\n2. Infiltration:\\n   - Start the mission on foot from the starting location to avoid detection.\\n   - Use the forested areas as cover to move closer to the target location.\\n   - Utilize the land vehicle to cover more ground quickly, but be prepared to switch to foot if needed to navigate through the mountainous terrain.\\n\\n3. Close target reconnaissance:\\n   - Approach the target location carefully, avoiding detection.\\n   - Use the helicopter for aerial reconnaissance if necessary to gather additional information on enemy positions and the layout of the area.\\n   - Communicate any new intelligence to the team and adjust the plan as needed.\\n\\n4. Extraction:\\n   - Once the HVT is secured, plan the extraction route carefully to avoid enemy detection.\\n   - Use the boat to cross any bodies of water that may be encountered on the way back to the starting location.\\n   - Maintain stealth throughout the extraction process to avoid being detected by enemy forces.\\n\\n5. Reevaluate and adjust:\\n   - Continuously assess the situation and adjust the plan as needed based on changing circumstances.\\n   - Communicate effectively with the team to ensure everyone is on the same page and working towards the same objective.\\n\\n6. Execute the mission: \\n   - Infiltrate the target location swiftly and efficiently, neutralizing any threats along the way.\\n   - Secure the HVT and prepare for extraction, maintaining a high level of awareness and readiness for any potential resistance.\\n   - Extract the team and the HVT safely back to the starting location, using all available vehicles as needed.\\n\\nBy following this detailed plan, you can conduct a successful stealth mission to extract the HVT from the target location within the specified time frame and overcome any resistance encountered along the way.', refusal=None, role='assistant', function_call=None, tool_calls=None))], created=1726334708, model='gpt-3.5-turbo-0125', object='chat.completion', service_tier=None, system_fingerprint=None, usage=CompletionUsage(completion_tokens=462, prompt_tokens=174, total_tokens=636, completion_tokens_details=CompletionTokensDetails(reasoning_tokens=0)))\n"
     ]
    }
   ],
   "source": [
    "import openai \n",
    "import json \n",
    "\n",
    "\n",
    "# Load your API key from an environment variable or directly\n",
    "with open('../../creds.json', 'r') as file: \n",
    "    openai.api_key = json.load(file)['openai-api-key']\n",
    "\n",
    "def get_chatgpt_response(prompt):\n",
    "    response = openai.chat.completions.create(\n",
    "        model=\"gpt-3.5-turbo\",  # or \"gpt-3.5-turbo\" if you're using a different model\n",
    "        messages=[\n",
    "            {\"role\": \"user\", \"content\": prompt}\n",
    "        ],\n",
    "        max_tokens=500\n",
    "    )\n",
    "    return response\n",
    "\n",
    "# Example prompt\n",
    "response = get_chatgpt_response(prompt)\n",
    "print(\"ChatGPT Response:\", response)\n"
   ]
  }
 ],
 "metadata": {
  "kernelspec": {
   "display_name": "Python 3",
   "language": "python",
   "name": "python3"
  },
  "language_info": {
   "codemirror_mode": {
    "name": "ipython",
    "version": 3
   },
   "file_extension": ".py",
   "mimetype": "text/x-python",
   "name": "python",
   "nbconvert_exporter": "python",
   "pygments_lexer": "ipython3",
   "version": "3.12.5"
  }
 },
 "nbformat": 4,
 "nbformat_minor": 2
}
